{
 "cells": [
  {
   "cell_type": "markdown",
   "metadata": {},
   "source": [
    "# setup compute"
   ]
  },
  {
   "cell_type": "code",
   "execution_count": 7,
   "metadata": {},
   "outputs": [
    {
     "name": "stdout",
     "output_type": "stream",
     "text": [
      "Requirement already satisfied: dask-jobqueue in /sdf/home/s/sanjeev/miniforge3/envs/dask/lib/python3.12/site-packages (0.8.5)\n",
      "Requirement already satisfied: dask>=2022.02.0 in /sdf/home/s/sanjeev/miniforge3/envs/dask/lib/python3.12/site-packages (from dask-jobqueue) (2024.6.2)\n",
      "Requirement already satisfied: distributed>=2022.02.0 in /sdf/home/s/sanjeev/miniforge3/envs/dask/lib/python3.12/site-packages (from dask-jobqueue) (2024.6.2)\n",
      "Requirement already satisfied: click>=8.1 in /sdf/home/s/sanjeev/miniforge3/envs/dask/lib/python3.12/site-packages (from dask>=2022.02.0->dask-jobqueue) (8.1.7)\n",
      "Requirement already satisfied: cloudpickle>=1.5.0 in /sdf/home/s/sanjeev/miniforge3/envs/dask/lib/python3.12/site-packages (from dask>=2022.02.0->dask-jobqueue) (3.0.0)\n",
      "Requirement already satisfied: fsspec>=2021.09.0 in /sdf/home/s/sanjeev/miniforge3/envs/dask/lib/python3.12/site-packages (from dask>=2022.02.0->dask-jobqueue) (2024.6.0)\n",
      "Requirement already satisfied: packaging>=20.0 in /sdf/home/s/sanjeev/miniforge3/envs/dask/lib/python3.12/site-packages (from dask>=2022.02.0->dask-jobqueue) (24.1)\n",
      "Requirement already satisfied: partd>=1.2.0 in /sdf/home/s/sanjeev/miniforge3/envs/dask/lib/python3.12/site-packages (from dask>=2022.02.0->dask-jobqueue) (1.4.2)\n",
      "Requirement already satisfied: pyyaml>=5.3.1 in /sdf/home/s/sanjeev/miniforge3/envs/dask/lib/python3.12/site-packages (from dask>=2022.02.0->dask-jobqueue) (6.0.1)\n",
      "Requirement already satisfied: toolz>=0.10.0 in /sdf/home/s/sanjeev/miniforge3/envs/dask/lib/python3.12/site-packages (from dask>=2022.02.0->dask-jobqueue) (0.12.1)\n",
      "Requirement already satisfied: jinja2>=2.10.3 in /sdf/home/s/sanjeev/miniforge3/envs/dask/lib/python3.12/site-packages (from distributed>=2022.02.0->dask-jobqueue) (3.1.4)\n",
      "Requirement already satisfied: locket>=1.0.0 in /sdf/home/s/sanjeev/miniforge3/envs/dask/lib/python3.12/site-packages (from distributed>=2022.02.0->dask-jobqueue) (1.0.0)\n",
      "Requirement already satisfied: msgpack>=1.0.0 in /sdf/home/s/sanjeev/miniforge3/envs/dask/lib/python3.12/site-packages (from distributed>=2022.02.0->dask-jobqueue) (1.0.8)\n",
      "Requirement already satisfied: psutil>=5.7.2 in /sdf/home/s/sanjeev/miniforge3/envs/dask/lib/python3.12/site-packages (from distributed>=2022.02.0->dask-jobqueue) (6.0.0)\n",
      "Requirement already satisfied: sortedcontainers>=2.0.5 in /sdf/home/s/sanjeev/miniforge3/envs/dask/lib/python3.12/site-packages (from distributed>=2022.02.0->dask-jobqueue) (2.4.0)\n",
      "Requirement already satisfied: tblib>=1.6.0 in /sdf/home/s/sanjeev/miniforge3/envs/dask/lib/python3.12/site-packages (from distributed>=2022.02.0->dask-jobqueue) (3.0.0)\n",
      "Requirement already satisfied: tornado>=6.0.4 in /sdf/home/s/sanjeev/miniforge3/envs/dask/lib/python3.12/site-packages (from distributed>=2022.02.0->dask-jobqueue) (6.4.1)\n",
      "Requirement already satisfied: urllib3>=1.24.3 in /sdf/home/s/sanjeev/miniforge3/envs/dask/lib/python3.12/site-packages (from distributed>=2022.02.0->dask-jobqueue) (2.2.2)\n",
      "Requirement already satisfied: zict>=3.0.0 in /sdf/home/s/sanjeev/miniforge3/envs/dask/lib/python3.12/site-packages (from distributed>=2022.02.0->dask-jobqueue) (3.0.0)\n",
      "Requirement already satisfied: MarkupSafe>=2.0 in /sdf/home/s/sanjeev/miniforge3/envs/dask/lib/python3.12/site-packages (from jinja2>=2.10.3->distributed>=2022.02.0->dask-jobqueue) (2.1.5)\n"
     ]
    }
   ],
   "source": [
    "!pip install dask-jobqueue\n",
    "!conda install -c conda-forge ipywidgets -y\n",
    "\n"
   ]
  },
  {
   "cell_type": "code",
   "execution_count": 11,
   "metadata": {},
   "outputs": [
    {
     "name": "stdout",
     "output_type": "stream",
     "text": [
      "Client 1: <Client: No scheduler connected>\n"
     ]
    }
   ],
   "source": []
  },
  {
   "cell_type": "code",
   "execution_count": 10,
   "metadata": {},
   "outputs": [],
   "source": [
    "#pip install prefect[dask] dask-jobqueue\n",
    "# prefect config set PREFECT_API_URL=\"https://ard-modeling-service.slac.stanford.edu/api\" \n",
    "\n",
    "from dask.distributed import Client\n",
    "from dask_jobqueue import SLURMCluster\n",
    "\n",
    "# Simplify SLURMCluster parameters to basic working configuration\n",
    "cluster_kwargs = {\n",
    "    \"cores\": 12,  \n",
    "    \"memory\": \"10GB\",  # Correct spacing\n",
    "    \"shebang\": \"#!/bin/bash\",\n",
    "    \"account\": \"facet\",\n",
    "    \"walltime\": \"00:10:00\",\n",
    "    \"job_script_prologue\": [\"source ~/.bashrc\"],\n",
    "    # Only basic directives, add more as needed and test each step\n",
    "    \"job_extra_directives\": [\"-q debug\", \"--partition=milano\", \"--qos=preemptable\"],\n",
    "}\n",
    "\n",
    "\n"
   ]
  },
  {
   "cell_type": "code",
   "execution_count": 3,
   "metadata": {},
   "outputs": [
    {
     "name": "stdout",
     "output_type": "stream",
     "text": [
      "#!/bin/bash\n",
      "\n",
      "#SBATCH -J dask-worker\n",
      "#SBATCH -A facet\n",
      "#SBATCH -n 1\n",
      "#SBATCH --cpus-per-task=12\n",
      "#SBATCH --mem=10G\n",
      "#SBATCH -t 00:10:00\n",
      "#SBATCH -q debug\n",
      "#SBATCH --partition=milano\n",
      "#SBATCH --qos=preemptable\n",
      "source ~/.bashrc\n",
      "/sdf/home/s/sanjeev/miniforge3/envs/dask/bin/python3.12 -m distributed.cli.dask_worker tcp://172.24.49.15:46467 --name dummy-name --nthreads 3 --memory-limit 2.33GiB --nworkers 4 --nanny --death-timeout 60\n",
      "\n"
     ]
    },
    {
     "name": "stderr",
     "output_type": "stream",
     "text": [
      "/sdf/home/s/sanjeev/miniforge3/envs/dask/lib/python3.12/site-packages/distributed/node.py:182: UserWarning: Port 8787 is already in use.\n",
      "Perhaps you already have a cluster running?\n",
      "Hosting the HTTP server on port 46745 instead\n",
      "  warnings.warn(\n"
     ]
    }
   ],
   "source": [
    "cluster = SLURMCluster(**cluster_kwargs)\n",
    "print(cluster.job_script())\n"
   ]
  },
  {
   "cell_type": "code",
   "execution_count": 4,
   "metadata": {},
   "outputs": [],
   "source": [
    "slurm_jobs = 1\n",
    "cluster.scale(jobs=slurm_jobs)\n",
    "client = Client(cluster)\n",
    "client"
   ]
  },
  {
   "cell_type": "markdown",
   "metadata": {},
   "source": [
    "# Non Parallel Code "
   ]
  },
  {
   "cell_type": "code",
   "execution_count": null,
   "metadata": {},
   "outputs": [],
   "source": [
    "import time\n",
    "import random\n",
    "\n",
    "def costly_simulation(list_param):\n",
    "    time.sleep(random.random())\n",
    "    return sum(list_param)"
   ]
  },
  {
   "cell_type": "code",
   "execution_count": null,
   "metadata": {},
   "outputs": [],
   "source": [
    "%time costly_simulation([1, 2, 3, 4])\n"
   ]
  },
  {
   "cell_type": "code",
   "execution_count": null,
   "metadata": {},
   "outputs": [],
   "source": [
    "import pandas as pd\n",
    "import numpy as np\n",
    "\n",
    "input_params = pd.DataFrame(np.random.random(size=(500, 4)),\n",
    "                            columns=['param_a', 'param_b', 'param_c', 'param_d'])\n",
    "input_params.head()"
   ]
  },
  {
   "cell_type": "code",
   "execution_count": null,
   "metadata": {},
   "outputs": [],
   "source": [
    "results = []\n"
   ]
  },
  {
   "cell_type": "code",
   "execution_count": null,
   "metadata": {},
   "outputs": [],
   "source": [
    "%%time\n",
    "for parameters in input_params.values[:10]:\n",
    "    result = costly_simulation(parameters)\n",
    "    results.append(result)"
   ]
  },
  {
   "cell_type": "code",
   "execution_count": null,
   "metadata": {},
   "outputs": [],
   "source": [
    "results\n"
   ]
  },
  {
   "cell_type": "markdown",
   "metadata": {},
   "source": [
    "# Parrellel Code"
   ]
  },
  {
   "cell_type": "code",
   "execution_count": null,
   "metadata": {},
   "outputs": [],
   "source": [
    "import dask\n",
    "lazy_results = []"
   ]
  },
  {
   "cell_type": "code",
   "execution_count": null,
   "metadata": {},
   "outputs": [],
   "source": [
    "%%time\n",
    "\n",
    "for parameters in input_params.values[:10]:\n",
    "    lazy_result = dask.delayed(costly_simulation)(parameters)\n",
    "    lazy_results.append(lazy_result)"
   ]
  },
  {
   "cell_type": "code",
   "execution_count": null,
   "metadata": {},
   "outputs": [],
   "source": [
    "lazy_results[0]\n"
   ]
  },
  {
   "cell_type": "markdown",
   "metadata": {},
   "source": [
    "# shutdown clients"
   ]
  },
  {
   "cell_type": "code",
   "execution_count": null,
   "metadata": {},
   "outputs": [],
   "source": [
    "from dask.distributed import Client\n",
    "\n",
    "# Access the global list of clients\n",
    "clients = Client._instances\n",
    "\n",
    "# Display information about each client\n",
    "for i, client in enumerate(clients):\n",
    "    print(f\"Client {i+1}: {client}\")\n",
    "client.shutdown()"
   ]
  }
 ],
 "metadata": {
  "kernelspec": {
   "display_name": "Python 3 (ipykernel)",
   "language": "python",
   "name": "python3"
  },
  "language_info": {
   "codemirror_mode": {
    "name": "ipython",
    "version": 3
   },
   "file_extension": ".py",
   "mimetype": "text/x-python",
   "name": "python",
   "nbconvert_exporter": "python",
   "pygments_lexer": "ipython3",
   "version": "3.12.4"
  }
 },
 "nbformat": 4,
 "nbformat_minor": 4
}
