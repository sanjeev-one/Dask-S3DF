{
 "cells": [
  {
   "cell_type": "markdown",
   "metadata": {},
   "source": [
    "# setup compute"
   ]
  },
  {
   "cell_type": "code",
   "execution_count": null,
   "metadata": {},
   "outputs": [],
   "source": [
    "!pip install prefect[dask] dask-jobqueue"
   ]
  },
  {
   "cell_type": "code",
   "execution_count": null,
   "metadata": {},
   "outputs": [],
   "source": [
    "#pip install prefect[dask] dask-jobqueue\n",
    "# prefect config set PREFECT_API_URL=\"https://ard-modeling-service.slac.stanford.edu/api\" \n",
    "\n",
    "from dask.distributed import Client\n",
    "from dask_jobqueue import SLURMCluster\n",
    "\n",
    "# Simplify SLURMCluster parameters to basic working configuration\n",
    "cluster_kwargs = {\n",
    "    \"cores\": 12,  \n",
    "    \"memory\": \"10GB\",  # Correct spacing\n",
    "    \"shebang\": \"#!/bin/bash\",\n",
    "    \"account\": \"facet\",\n",
    "    \"walltime\": \"00:10:00\",\n",
    "    \"job_script_prologue\": [\"source ~/.bashrc\"],\n",
    "    # Only basic directives, add more as needed and test each step\n",
    "    \"job_extra_directives\": [\"-q debug\", \"--partition=milano\", \"--qos=preemptable\"],\n",
    "}\n",
    "\n",
    "\n"
   ]
  },
  {
   "cell_type": "code",
   "execution_count": null,
   "metadata": {},
   "outputs": [],
   "source": [
    "cluster = SLURMCluster(**cluster_kwargs)\n",
    "print(cluster.job_script())\n"
   ]
  },
  {
   "cell_type": "code",
   "execution_count": null,
   "metadata": {},
   "outputs": [],
   "source": [
    "slurm_jobs = 1\n",
    "cluster.scale(jobs=slurm_jobs)\n",
    "client = Client(cluster)"
   ]
  },
  {
   "cell_type": "markdown",
   "metadata": {},
   "source": [
    "# define code"
   ]
  },
  {
   "cell_type": "code",
   "execution_count": null,
   "metadata": {},
   "outputs": [],
   "source": [
    "%time\n",
    "@delayed\n",
    "def slow_square(x):\n",
    "    time.sleep(1)  # Simulate a delay\n",
    "    return x * x\n",
    "\n",
    "# Generate tasks using a for loop\n",
    "tasks = [slow_square(i) for i in range(10)]\n",
    "\n",
    "# Compute the results in parallel\n",
    "results = compute(*tasks)\n",
    "\n",
    "print(\"Results:\", results)"
   ]
  }
 ],
 "metadata": {
  "language_info": {
   "name": "python"
  }
 },
 "nbformat": 4,
 "nbformat_minor": 2
}
